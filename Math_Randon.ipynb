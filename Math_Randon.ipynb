{
  "nbformat": 4,
  "nbformat_minor": 0,
  "metadata": {
    "colab": {
      "name": "Math_Randon.ipynb",
      "provenance": [],
      "authorship_tag": "ABX9TyMPvpWM/QTG9sLZMmx+l+UV",
      "include_colab_link": true
    },
    "kernelspec": {
      "name": "python3",
      "display_name": "Python 3"
    },
    "language_info": {
      "name": "python"
    }
  },
  "cells": [
    {
      "cell_type": "markdown",
      "metadata": {
        "id": "view-in-github",
        "colab_type": "text"
      },
      "source": [
        "<a href=\"https://colab.research.google.com/github/BarbaraViana/Estudos_Python_1/blob/main/Math_Randon.ipynb\" target=\"_parent\"><img src=\"https://colab.research.google.com/assets/colab-badge.svg\" alt=\"Open In Colab\"/></a>"
      ]
    },
    {
      "cell_type": "code",
      "execution_count": 7,
      "metadata": {
        "colab": {
          "base_uri": "https://localhost:8080/"
        },
        "id": "d8zHRUUpvFlV",
        "outputId": "cd738f4d-ad53-4c33-f42d-a185040eb4ec"
      },
      "outputs": [
        {
          "output_type": "stream",
          "name": "stdout",
          "text": [
            "Digite um numero: 81\n",
            "A raiz de 81 é igual a 9\n"
          ]
        }
      ],
      "source": [
        "from math import sqrt, floor\n",
        "num = int(input('Digite um numero: '))\n",
        "raiz = sqrt(num)\n",
        "print('A raiz de {} é igual a {}'.format(num, floor(raiz)))"
      ]
    },
    {
      "cell_type": "code",
      "source": [
        "import random\n",
        "num = random.random() #para um float\n",
        "num1 = random.randint(1,10) #para um num inteiro\n",
        "print(num)\n",
        "print(num1)"
      ],
      "metadata": {
        "colab": {
          "base_uri": "https://localhost:8080/"
        },
        "id": "TY7gOT5Gx2Oh",
        "outputId": "f33c5193-cdb5-4b65-8cd9-751c89d7a1c4"
      },
      "execution_count": 6,
      "outputs": [
        {
          "output_type": "stream",
          "name": "stdout",
          "text": [
            "0.8895372585072238\n",
            "4\n"
          ]
        }
      ]
    },
    {
      "cell_type": "code",
      "source": [
        "import math #Importação completa\n",
        "inteiro = float(input('Digite um numero: '))\n",
        "print('O valor digitado foi {}, e a sua porção inteira é {}' .format (inteiro, math.trunc(inteiro)))"
      ],
      "metadata": {
        "colab": {
          "base_uri": "https://localhost:8080/"
        },
        "id": "rZb8PincyfmB",
        "outputId": "0c5f32b9-bb75-4dd1-a71c-46271a183337"
      },
      "execution_count": 9,
      "outputs": [
        {
          "output_type": "stream",
          "name": "stdout",
          "text": [
            "Digite um numero: 50\n",
            "O valor digitado foi 50.0, e a sua porção inteira é 50\n"
          ]
        }
      ]
    },
    {
      "cell_type": "code",
      "source": [
        "from math import trunc #Importação de um metodo especifico \n",
        "inteiro1 = float(input ('Digite um numero:'))\n",
        "print('O valor digitado é {} e a sua porção inteira é {}' .format(inteiro1, trunc(inteiro1)))"
      ],
      "metadata": {
        "colab": {
          "base_uri": "https://localhost:8080/"
        },
        "id": "9MX2twI8yo-B",
        "outputId": "f1de2815-5692-4eea-d883-fefcb8b38138"
      },
      "execution_count": 10,
      "outputs": [
        {
          "output_type": "stream",
          "name": "stdout",
          "text": [
            "Digite um numero:55\n",
            "O valor digitado é 55.0 e a sua porção inteira é 55\n"
          ]
        }
      ]
    },
    {
      "cell_type": "code",
      "source": [
        "#Calculando seno, coseno e tangente.\n",
        "import math #IMPORTANDO A BIBLIOTECA COMPLETA\n",
        "angulo = float(input('Digite o angulo que você deseja: '))\n",
        "seno = math.sin(math.radians(angulo))\n",
        "print('O angulo de {} graus tem o SENO de {:.2f}'.format(angulo, seno))\n",
        "cosseno = math.cos(math.radians(angulo))\n",
        "print('O angulo de {} graus tem o COSSENO de {:.2f}' .format(angulo, cosseno))\n",
        "tangente = math.tan(math.radians(angulo))\n",
        "print('O angulo de {} graus tem a TANGENTE de {:.2f}' .format(angulo, tangente))"
      ],
      "metadata": {
        "colab": {
          "base_uri": "https://localhost:8080/"
        },
        "id": "7VkE0ku5zBhp",
        "outputId": "7d7a44f2-2e70-4d41-b367-5f0da693f8ed"
      },
      "execution_count": 11,
      "outputs": [
        {
          "output_type": "stream",
          "name": "stdout",
          "text": [
            "Digite o angulo que você deseja: 30\n",
            "O angulo de 30.0 graus tem o SENO de 0.50\n",
            "O angulo de 30.0 graus tem o COSSENO de 0.87\n",
            "O angulo de 30.0 graus tem a TANGENTE de 0.58\n"
          ]
        }
      ]
    },
    {
      "cell_type": "code",
      "source": [
        "from math import radians, sin, cos, tan #IMPORTANDO Apenas os modulos ultilizados\n",
        "angulo = float(input('Digite o angulo que você deseja: '))\n",
        "seno = sin(radians(angulo))\n",
        "print('O angulo de {} graus tem o SENO de {:.2f}'.format(angulo, seno))\n",
        "cosseno = cos(radians(angulo))\n",
        "print('O angulo de {} graus tem o COSSENO de {:.2f}' .format(angulo, cosseno))\n",
        "tangente = tan(radians(angulo))\n",
        "print('O angulo de {} graus tem a TANGENTE de {:.2f}' .format(angulo, tangente))"
      ],
      "metadata": {
        "id": "V-RwLufNzSH6"
      },
      "execution_count": null,
      "outputs": []
    },
    {
      "cell_type": "code",
      "source": [
        "#Modulo random fazendo um sorteio entre nomes digitados\n",
        "import random # O random.choice, sorteia um item da lista\n",
        "aluno_1 = str(input('Digite o nome do primero aluno: '))\n",
        "aluno_2 = str(input('Digite o nome do segundo aluno: '))\n",
        "aluno_3 = str(input('Digite o nome do terceiro aluno: '))\n",
        "aluno_4 = str(input('Digite o nome do quarto aluno: '))\n",
        "lista = [aluno_1, aluno_2, aluno_3, aluno_4]\n",
        "escolhido = random.choice(lista) \n",
        "print('O aluno sorteado para apagar o quadro é o: {} '.format(escolhido))"
      ],
      "metadata": {
        "id": "6x8d2wMNzZpB"
      },
      "execution_count": null,
      "outputs": []
    },
    {
      "cell_type": "code",
      "source": [
        "import random # random.shufle() ele vai mostrar a lista embaralhada\n",
        "aluno_1 = str(input('Digite o nome do primero aluno: '))\n",
        "aluno_2 = str(input('Digite o nome do segundo aluno: '))\n",
        "aluno_3 = str(input('Digite o nome do terceiro aluno: '))\n",
        "aluno_4 = str(input('Digite o nome do quarto aluno: '))\n",
        "lista = [aluno_1, aluno_2, aluno_3, aluno_4]\n",
        "random.shuffle(lista) \n",
        "print('A ordem de apresentação será: {} '.format(lista))"
      ],
      "metadata": {
        "id": "sAukdFygzlAA"
      },
      "execution_count": null,
      "outputs": []
    }
  ]
}