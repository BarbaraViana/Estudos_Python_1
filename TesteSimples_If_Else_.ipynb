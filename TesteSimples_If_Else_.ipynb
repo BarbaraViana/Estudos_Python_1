{
  "nbformat": 4,
  "nbformat_minor": 0,
  "metadata": {
    "colab": {
      "name": "TesteSimples_If/Else_.ipynb",
      "provenance": [],
      "authorship_tag": "ABX9TyNJ25yEwwSyFdK5JR4H211L",
      "include_colab_link": true
    },
    "kernelspec": {
      "name": "python3",
      "display_name": "Python 3"
    },
    "language_info": {
      "name": "python"
    }
  },
  "cells": [
    {
      "cell_type": "markdown",
      "metadata": {
        "id": "view-in-github",
        "colab_type": "text"
      },
      "source": [
        "<a href=\"https://colab.research.google.com/github/BarbaraViana/Estudos_Python_1/blob/main/TesteSimples_If_Else_.ipynb\" target=\"_parent\"><img src=\"https://colab.research.google.com/assets/colab-badge.svg\" alt=\"Open In Colab\"/></a>"
      ]
    },
    {
      "cell_type": "code",
      "execution_count": 1,
      "metadata": {
        "colab": {
          "base_uri": "https://localhost:8080/"
        },
        "id": "HMzvLm5Ygv7v",
        "outputId": "ea72978a-84ce-4b0f-95af-761dd6bc8c0a"
      },
      "outputs": [
        {
          "output_type": "stream",
          "name": "stdout",
          "text": [
            "Não posso comprar!\n"
          ]
        }
      ],
      "source": [
        "arroz = 7.00\n",
        "feijao = 5.00\n",
        "carne = 35.00\n",
        "\n",
        "if carne <= 10.00:\n",
        "    print('Eu posso comprar')\n",
        "else:\n",
        "    print('Não posso comprar!')"
      ]
    }
  ]
}