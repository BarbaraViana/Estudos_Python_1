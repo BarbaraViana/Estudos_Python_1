{
  "nbformat": 4,
  "nbformat_minor": 0,
  "metadata": {
    "colab": {
      "name": "pingSimples.ipynb",
      "provenance": [],
      "authorship_tag": "ABX9TyNcpIPTc4X+28l4fQsDOBzC",
      "include_colab_link": true
    },
    "kernelspec": {
      "name": "python3",
      "display_name": "Python 3"
    },
    "language_info": {
      "name": "python"
    }
  },
  "cells": [
    {
      "cell_type": "markdown",
      "metadata": {
        "id": "view-in-github",
        "colab_type": "text"
      },
      "source": [
        "<a href=\"https://colab.research.google.com/github/BarbaraViana/Estudos_Python_1/blob/main/pingSimples.ipynb\" target=\"_parent\"><img src=\"https://colab.research.google.com/assets/colab-badge.svg\" alt=\"Open In Colab\"/></a>"
      ]
    },
    {
      "cell_type": "code",
      "metadata": {
        "colab": {
          "base_uri": "https://localhost:8080/"
        },
        "id": "ln3p4fGS6BY1",
        "outputId": "4afa4e15-dccb-4e9b-ab6e-bc3f3a124f1b"
      },
      "source": [
        "import os #importar o modulo ou biblioteca os (integra os prog e recursos do Sist operacional)\n",
        "\n",
        "ip_ou_host = input('Digite o IP ou host a ser verificado: ')\n",
        "print('-' * 60)\n",
        "os.system('ping -n 6 {}'.format(ip_ou_host))\n",
        "print('-' * 60)"
      ],
      "execution_count": null,
      "outputs": [
        {
          "output_type": "stream",
          "name": "stdout",
          "text": [
            "Digite o IP ou host a ser verificado: 8.8.8.8\n",
            "------------------------------------------------------------\n",
            "------------------------------------------------------------\n"
          ]
        }
      ]
    },
    {
      "cell_type": "code",
      "metadata": {
        "id": "E0vCdAZIHcyN"
      },
      "source": [
        "with open()"
      ],
      "execution_count": null,
      "outputs": []
    },
    {
      "cell_type": "code",
      "metadata": {
        "id": "hzTntWHFG1Vo"
      },
      "source": [
        ""
      ],
      "execution_count": null,
      "outputs": []
    }
  ]
}