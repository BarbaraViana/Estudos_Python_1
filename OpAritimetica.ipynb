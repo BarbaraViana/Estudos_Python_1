{
  "nbformat": 4,
  "nbformat_minor": 0,
  "metadata": {
    "colab": {
      "name": "OpAritimetica.ipynb",
      "provenance": [],
      "authorship_tag": "ABX9TyPMIGiQ88/MMlME0iKR51ts",
      "include_colab_link": true
    },
    "kernelspec": {
      "name": "python3",
      "display_name": "Python 3"
    },
    "language_info": {
      "name": "python"
    }
  },
  "cells": [
    {
      "cell_type": "markdown",
      "metadata": {
        "id": "view-in-github",
        "colab_type": "text"
      },
      "source": [
        "<a href=\"https://colab.research.google.com/github/BarbaraViana/Estudos_Python_1/blob/main/OpAritimetica.ipynb\" target=\"_parent\"><img src=\"https://colab.research.google.com/assets/colab-badge.svg\" alt=\"Open In Colab\"/></a>"
      ]
    },
    {
      "cell_type": "markdown",
      "source": [
        "* O programa converte graus Celsius em Fahrenheit"
      ],
      "metadata": {
        "id": "roPMC5c7-4MY"
      }
    },
    {
      "cell_type": "code",
      "source": [
        "celsius =  float(input('Qual é a temperatura atual em graus celsius? '))\n",
        "fahrenheit = ((9 * celsius) / 5 )+32\n",
        "print('A temperatura de {}ºc coresponde a {}F!' .format(celsius, fahrenheit)) "
      ],
      "metadata": {
        "id": "hXcoYHDH_CWo"
      },
      "execution_count": null,
      "outputs": []
    },
    {
      "cell_type": "markdown",
      "source": [
        "* O programa calcula de acordo com KM rodados e dias alugados o valor a pagar pelo aluguel."
      ],
      "metadata": {
        "id": "aHMARpez-uzm"
      }
    },
    {
      "cell_type": "code",
      "source": [
        "dias = int(input('Quantos dias o carro ficou alugado? '))\n",
        "km = float(input('Quantos km foram rodados? '))\n",
        "pago = (dias * 60) + (km * 0.15)\n",
        "print('O total a pagar é de R${:.2f}'.format(pago))"
      ],
      "metadata": {
        "id": "ZrH_BAbJ-xV2"
      },
      "execution_count": null,
      "outputs": []
    },
    {
      "cell_type": "markdown",
      "source": [
        "* Ao digitar dois numero, o programa mostra: soma, divisão e potencia."
      ],
      "metadata": {
        "id": "4BOwQU_k8pSH"
      }
    },
    {
      "cell_type": "code",
      "execution_count": null,
      "metadata": {
        "id": "CeN2UYua5X3h"
      },
      "outputs": [],
      "source": [
        "n1 = int(input('Digite um valor: '))\n",
        "n2 = int(input('Digite outro valor: '))\n",
        "s = n1+n2\n",
        "m = n1*n2\n",
        "d = n1/n2\n",
        "di = n1//n2\n",
        "e = n1**n2\n",
        "print('A soma é {}, \\n O produto é {}, \\n A divisão é {} ' .format(s,m,d))\n",
        "print('A divisão inteira {}, \\n2 e potencia {}' .format(di, e))"
      ]
    },
    {
      "cell_type": "markdown",
      "source": [
        "* Ao digitar um numero, o programa mostra o antecessor e o sucessor"
      ],
      "metadata": {
        "id": "7y4F0WaG8kqN"
      }
    },
    {
      "cell_type": "code",
      "source": [
        "num = int(input('Digite um numero: '))\n",
        "ant = num -1\n",
        "suc = num +1\n",
        "print('O antecessor do numero digitado é {}' .format(ant))\n",
        "print('O sucessor do numero digitado é {}'.format (suc))"
      ],
      "metadata": {
        "id": "TJAbGi-v6C6G"
      },
      "execution_count": null,
      "outputs": []
    },
    {
      "cell_type": "markdown",
      "source": [
        "* Ao digitar um numero o programa irá calcular o seu dobro, triplo e a raiz."
      ],
      "metadata": {
        "id": "XpWYjQ828ad-"
      }
    },
    {
      "cell_type": "code",
      "source": [
        "num1 = int(input('Digite um numero: '))\n",
        "dob = num1+num1\n",
        "tri = num1+num1+num1\n",
        "rai = num1**num1\n",
        "print('O dobro do numero digitado é {}, \\nO triplo do numero digitado é {}, sua raiz é {}' .format (dob, tri, rai))"
      ],
      "metadata": {
        "id": "F7kVgD2X6yuH"
      },
      "execution_count": null,
      "outputs": []
    },
    {
      "cell_type": "markdown",
      "source": [
        "* Ao ser digitado duas notas de um aluno o programa ira calcular a media."
      ],
      "metadata": {
        "id": "4E1g_ACr8Vj_"
      }
    },
    {
      "cell_type": "code",
      "source": [
        "\n",
        "nota1 = int(input('Digite a primeira nota: '))\n",
        "nota2 = int(input('Digite a segunda nota: '))\n",
        "media = (nota1+nota2)/2\n",
        "print(\"Sua media é {}\" .format(media))"
      ],
      "metadata": {
        "id": "Gu1sAQcT7Ir-"
      },
      "execution_count": null,
      "outputs": []
    },
    {
      "cell_type": "markdown",
      "source": [
        "* O programa criado transforma os valores da moeda REAL em DOLAR Considerando dolar 5.64"
      ],
      "metadata": {
        "id": "Jd1FLOry8FcO"
      }
    },
    {
      "cell_type": "code",
      "source": [
        "\n",
        "real = float(input('Quanto dinheiro você tem para comprar dolar? R$ '))\n",
        "dolar = real / 5.64\n",
        "print('Com R${:.3f} voce pode comprar US${:.3f}'.format(real, dolar))"
      ],
      "metadata": {
        "id": "g6qR9zOH7gVn"
      },
      "execution_count": null,
      "outputs": []
    },
    {
      "cell_type": "markdown",
      "source": [
        "* O programa lê a largura e a altura de uma parede e calcula a dimensaão da parede e a qtd de tinta para a pintura, sendo cada metro 2 litros de tinta."
      ],
      "metadata": {
        "id": "Y5c1K3Kk84xf"
      }
    },
    {
      "cell_type": "code",
      "source": [
        "larg = float(input('Largura da parede: '))\n",
        "alt = float(input('Altura da parede: '))\n",
        "area = larg * alt\n",
        "print('Sua parede tem a dimensão de {} x {} e sua área é de {}m².'.format(larg, alt, area))\n",
        "tinta = area / 2\n",
        "print('Para pintar essa parede, voce precisará de {}l de tinta.'.format(tinta))"
      ],
      "metadata": {
        "id": "GaM_0bD282u4"
      },
      "execution_count": null,
      "outputs": []
    },
    {
      "cell_type": "markdown",
      "source": [
        "* O programa lê o preço de um produto e mostra um desconto de 5% no valor do mesmo."
      ],
      "metadata": {
        "id": "hLKgYxYv9Rpn"
      }
    },
    {
      "cell_type": "code",
      "source": [
        "preco = float(input('Qual é o preço do produto? R$'))\n",
        "novo = preco - (preco * 5/100)\n",
        "print('O produto que custava R${:.2f}, na promoção com desconto de 5% vai custar R${:.2f}'. format(preco, novo))\n"
      ],
      "metadata": {
        "id": "aj_Q7epJ9QJA"
      },
      "execution_count": null,
      "outputs": []
    },
    {
      "cell_type": "markdown",
      "source": [
        "* O programa calcula um aumento de 15% sobre o valor imputado."
      ],
      "metadata": {
        "id": "J2Tm7Nhd9iN1"
      }
    },
    {
      "cell_type": "code",
      "source": [
        "sal = float(input('Qual é o seu salario? R$'))\n",
        "novo_Sal = sal + (sal * 15/100)\n",
        "print('Seu novo salário é {:.2f}' .format (novo_Sal))"
      ],
      "metadata": {
        "id": "KYKUJ4xm9uC-"
      },
      "execution_count": null,
      "outputs": []
    }
  ]
}